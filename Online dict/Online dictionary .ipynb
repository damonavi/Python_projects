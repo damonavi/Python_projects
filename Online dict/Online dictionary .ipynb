{
 "cells": [
  {
   "cell_type": "markdown",
   "metadata": {},
   "source": [
    "# Online Python Ditionary\n",
    "\n",
    "## A dictionary which helps the user to search for words that are locally stored in a JSON file, and if the word is not present in the file, it checks for the closest match of the input in the JSON file. If the user is not satisfied with the match, the program automatically does a google search of the word and if the closest match returns a None object, then also the program automatically does a google search "
   ]
  },
  {
   "cell_type": "markdown",
   "metadata": {},
   "source": [
    "### Importing Differnt Libraries"
   ]
  },
  {
   "cell_type": "code",
   "execution_count": 2,
   "metadata": {},
   "outputs": [],
   "source": [
    "import json\n",
    "import difflib\n",
    "import selenium\n",
    "from selenium import webdriver"
   ]
  },
  {
   "cell_type": "markdown",
   "metadata": {},
   "source": [
    "### Openig the local 'data.json' file which contains differnt words along with their meaning in a JSON format in a 'file-object' variable."
   ]
  },
  {
   "cell_type": "code",
   "execution_count": 3,
   "metadata": {},
   "outputs": [],
   "source": [
    "file_object = open('data.json')"
   ]
  },
  {
   "cell_type": "markdown",
   "metadata": {},
   "source": [
    "### Loading the file_object to python and storing the json data in terms op Python dictionary in a dictionary named 'local_dictionary' variable."
   ]
  },
  {
   "cell_type": "code",
   "execution_count": 4,
   "metadata": {},
   "outputs": [],
   "source": [
    "local_dictionary = json.load(file_object)"
   ]
  },
  {
   "cell_type": "markdown",
   "metadata": {},
   "source": [
    "### Storing the keys of 'local_dictionary' in list for easier search and access in a variable called 'keys_list'."
   ]
  },
  {
   "cell_type": "code",
   "execution_count": 5,
   "metadata": {},
   "outputs": [],
   "source": [
    "keys_list = list(local_dictionary.keys())"
   ]
  },
  {
   "cell_type": "markdown",
   "metadata": {},
   "source": [
    "### Some properties of 'keys_list'"
   ]
  },
  {
   "cell_type": "code",
   "execution_count": 6,
   "metadata": {},
   "outputs": [
    {
     "name": "stdout",
     "output_type": "stream",
     "text": [
      "Total number of locally stored words : 49537\n"
     ]
    }
   ],
   "source": [
    "print(\"Total number of locally stored words : \" + str(len(keys_list)))"
   ]
  },
  {
   "cell_type": "markdown",
   "metadata": {},
   "source": [
    "### 'close_search()' : A python function that determines the closest search of an input from user if the input given from the user is not in the local dictionary. The function returns the closest match, if any or simply it returns None if it doesnt find the match. "
   ]
  },
  {
   "cell_type": "code",
   "execution_count": 7,
   "metadata": {},
   "outputs": [],
   "source": [
    "def close_search(user_input,list_of_keys):\n",
    "    \"\"\"\n",
    "        This function returns the closest match of a user_input if the input is not present in\n",
    "        local dictionary. It takes a string 'user_input' and a list of keys 'list_of_keys' and \n",
    "        returns the first closest match or None if no match.\n",
    "    \"\"\"\n",
    "    user_input = user_input.lower()\n",
    "    array_of_closest_match = difflib.get_close_matches(user_input,list_of_keys)\n",
    "    if array_of_closest_match:\n",
    "        return array_of_closest_match[0]\n",
    "    else:\n",
    "        return None"
   ]
  },
  {
   "cell_type": "markdown",
   "metadata": {},
   "source": [
    "### 'search_web()' : A python function that does a google search automatically if no match of input is found or if the user is unsatisfied with the match from 'close_search' function. It uses 'Selenium' Python package for web-automation and displays the google search in Chrome browser.\n",
    "\n",
    "#### NOTE:  The selenium uses web-driver, so it must be installed in the local machine from where you are trying to run the program.\n",
    "#### NOTE: While initialising web driver, the path of installed driver should be given as arguments which could be diffrent for differnt users. \"driver = webdriver.Chrome(\"{Path to the locally installed web-driver}\")\"\n",
    "#### NOTE: WebDriver for every browser is different . Here I am using Chromedriver for Chrome version 83."
   ]
  },
  {
   "cell_type": "code",
   "execution_count": 8,
   "metadata": {},
   "outputs": [],
   "source": [
    "def search_web(user_input):\n",
    "    \"\"\"\n",
    "        This Function takes in parameters a string \"user_input\" and automatically does a\n",
    "        google search for the user_input using selenium web automation Python\n",
    "        package.\n",
    "    \"\"\"\n",
    "    driver = webdriver.Chrome(\"C:\\\\Users\\\\Dell\\\\Desktop\\chromedriver\")\n",
    "    driver.get(\"https://www.google.com\")\n",
    "    searchbox = driver.find_element_by_xpath('//*[@id=\"tsf\"]/div[2]/div[1]/div[1]/div/div[2]/input')\n",
    "    searchbox.send_keys(user_input)\n",
    "    searchbutton = driver.find_element_by_xpath('//*[@id=\"tsf\"]/div[2]/div[1]/div[3]/center/input[1]')\n",
    "    searchbutton.click()"
   ]
  },
  {
   "cell_type": "markdown",
   "metadata": {},
   "source": [
    "### 'close_search_with_user_approval()' : A Python function that matches the user_input with closest match in the local_dictionary and prints the meaning of the closest match. If the user is not satisfied with the closest match, it does a google search for the original user input. "
   ]
  },
  {
   "cell_type": "code",
   "execution_count": 9,
   "metadata": {},
   "outputs": [],
   "source": [
    "def close_search_with_user_approval(user_input,list_of_keys):\n",
    "    \"\"\"\n",
    "        This function takes parameters a string user_input and a list of keys and print the \n",
    "        meaning of the closest match or searches the web for the same.\n",
    "    \"\"\"\n",
    "    closest_match = close_search(user_input,list_of_keys)\n",
    "    if closest_match != None:\n",
    "        print(\"The closest key for the input found : \"+closest_match)\n",
    "        print(\"The meaning of : \"+closest_match)\n",
    "        print(local_dictionary[closest_match])\n",
    "        print(\"If unsatisfied with the closest match option press (Y)\")\n",
    "        unsatisfication = input()\n",
    "        if unsatisfication=='Y':\n",
    "            search_web(user_input)\n",
    "        else:\n",
    "            print('Search Successfull')"
   ]
  },
  {
   "cell_type": "markdown",
   "metadata": {},
   "source": [
    "### 'simple_search()' : A Python functon which does a simply search the local dictionary in case the hit occurs with user input."
   ]
  },
  {
   "cell_type": "code",
   "execution_count": 10,
   "metadata": {},
   "outputs": [],
   "source": [
    "def simple_search(user_input):\n",
    "    \"\"\"\n",
    "        It returns the meaning of user_input which is stored in local dictionary as the user\n",
    "        input matches one of the keys in local dictionary.\n",
    "    \"\"\"\n",
    "    print(local_dictionary[user_input])"
   ]
  },
  {
   "cell_type": "markdown",
   "metadata": {},
   "source": [
    "## The Driver Code:"
   ]
  },
  {
   "cell_type": "code",
   "execution_count": 11,
   "metadata": {},
   "outputs": [
    {
     "name": "stdout",
     "output_type": "stream",
     "text": [
      "Enter the search word : \n",
      "baloch\n",
      "The closest key for the input found : Baloch\n",
      "The meaning of : Baloch\n",
      "['An Iranian people inhabiting the region of Balochistan in the southeast corner of the Iranian plateau in Southwest Asia, including parts of Iran, Afghanistan, and Pakistan.']\n",
      "If unsatisfied with the closest match option press (Y)\n",
      "l\n",
      "Search Successfull\n"
     ]
    }
   ],
   "source": [
    "if __name__ == \"__main__\":\n",
    "    print(\"Enter the search word : \")\n",
    "    user_input = input()\n",
    "    if user_input in keys_list:\n",
    "        simple_search(user_input)\n",
    "    elif close_search(user_input,keys_list):\n",
    "        close_search_with_user_approval(user_input,keys_list)\n",
    "    else:\n",
    "        search_web(user_input)"
   ]
  },
  {
   "cell_type": "markdown",
   "metadata": {},
   "source": [
    "## A GUI approach\n",
    "### A simple GUI based on Python library tkinter."
   ]
  },
  {
   "cell_type": "markdown",
   "metadata": {},
   "source": [
    "### \"search_web_event()\" : A python fuction that does same function as 'search_web()'\n",
    "### while user input from text box as its argument. "
   ]
  },
  {
   "cell_type": "code",
   "execution_count": 12,
   "metadata": {},
   "outputs": [],
   "source": [
    "def search_web_event():\n",
    "    \"\"\"\n",
    "        This Function automatically does a\n",
    "        google search for the user_input from textbox using selenium web automation Python\n",
    "        package.\n",
    "    \"\"\"\n",
    "    user_input = enter_word_text.get()\n",
    "    driver = webdriver.Chrome(\"C:\\\\Users\\\\Dell\\\\Desktop\\chromedriver\")\n",
    "    driver.get(\"https://www.google.com\")\n",
    "    searchbox = driver.find_element_by_xpath('//*[@id=\"tsf\"]/div[2]/div[1]/div[1]/div/div[2]/input')\n",
    "    searchbox.send_keys(user_input)\n",
    "    searchbutton = driver.find_element_by_xpath('//*[@id=\"tsf\"]/div[2]/div[1]/div[3]/center/input[1]')\n",
    "    searchbutton.click()"
   ]
  },
  {
   "cell_type": "markdown",
   "metadata": {},
   "source": [
    "### 'close_search_with_user_approval_event()' : A python fuction that does same thing as 'close_search_with_user_approval() , instaed of printing it displays the output in a label."
   ]
  },
  {
   "cell_type": "code",
   "execution_count": 13,
   "metadata": {},
   "outputs": [],
   "source": [
    "def close_search_with_user_approval_event(user_input,list_of_keys):\n",
    "    \"\"\"\n",
    "        This function takes parameters a string user_input and a list of keys and displays the \n",
    "        meaning of the closest match in a textbox or searches the web for the same.\n",
    "    \"\"\"\n",
    "    closest_match = close_search(user_input,list_of_keys)\n",
    "    if closest_match != None:\n",
    "        meaning_label['text'] = \"The closest key for the input found : \"+ closest_match+\"\\n\"+\"The meaning of : \"+closest_match + \"\\n\"+str(local_dictionary[closest_match])\n",
    "        ##print(\"The closest key for the input found : \"+closest_match)\n",
    "        ##print(\"The meaning of : \"+closest_match)\n",
    "        ##print(local_dictionary[closest_match])\n",
    "        ##print(\"If unsatisfied with the closest match option press (Y)\")\n",
    "        ##unsatisfication = input()\n",
    "        ##if unsatisfication=='Y':\n",
    "          ##  search_web(user_input)\n",
    "        ##else:\n",
    "          ##  print('Search Successfull')\n",
    "        unsatisfied_button = tk.Button(text='Unsatisfied',command=search_web_event)\n",
    "        unsatisfied_button.pack()"
   ]
  },
  {
   "cell_type": "markdown",
   "metadata": {},
   "source": [
    "### 'simple_search_event()' : A python fuction doing same thing as  'simple_search()' ,\n",
    "### instead printing  , it displays input into label."
   ]
  },
  {
   "cell_type": "code",
   "execution_count": 14,
   "metadata": {},
   "outputs": [],
   "source": [
    "def simple_search_event(user_input):\n",
    "    meaning_label[\"text\"] = local_dictionary[user_input]"
   ]
  },
  {
   "cell_type": "markdown",
   "metadata": {},
   "source": [
    "### Click event for search button: "
   ]
  },
  {
   "cell_type": "code",
   "execution_count": 15,
   "metadata": {},
   "outputs": [],
   "source": [
    "def search_click_event():\n",
    "    user_input = enter_word_text.get()\n",
    "    if user_input in keys_list:\n",
    "        simple_search_event(user_input)\n",
    "    elif close_search(user_input,keys_list):\n",
    "        close_search_with_user_approval_event(user_input,keys_list)\n",
    "    else:\n",
    "        search_web_event(user_input)"
   ]
  },
  {
   "cell_type": "code",
   "execution_count": 16,
   "metadata": {},
   "outputs": [],
   "source": [
    "def clear_content():\n",
    "    enter_word_text.delete(0,\"end\")\n",
    "    meaning_label[\"text\"] = \"\""
   ]
  },
  {
   "cell_type": "markdown",
   "metadata": {},
   "source": [
    "### Driver code for GUI interface. Run this to see gui in working."
   ]
  },
  {
   "cell_type": "code",
   "execution_count": 18,
   "metadata": {},
   "outputs": [],
   "source": [
    "import tkinter as tk\n",
    "window = tk.Tk()\n",
    "info_label = tk.Label(text = \"Enter String\")\n",
    "enter_word_text = tk.Entry(width=50)\n",
    "search_button = tk.Button(text='Search',command=search_click_event)\n",
    "meaning_label = tk.Label()\n",
    "clear_button = tk.Button(text='clear',command=clear_content)\n",
    "info_label.pack()\n",
    "enter_word_text.pack()\n",
    "search_button.pack()\n",
    "clear_button.pack()\n",
    "meaning_label.pack()\n",
    "window.mainloop()"
   ]
  }
 ],
 "metadata": {
  "kernelspec": {
   "display_name": "Python 3",
   "language": "python",
   "name": "python3"
  },
  "language_info": {
   "codemirror_mode": {
    "name": "ipython",
    "version": 3
   },
   "file_extension": ".py",
   "mimetype": "text/x-python",
   "name": "python",
   "nbconvert_exporter": "python",
   "pygments_lexer": "ipython3",
   "version": "3.7.7"
  }
 },
 "nbformat": 4,
 "nbformat_minor": 4
}
